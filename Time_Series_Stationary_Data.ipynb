{
  "nbformat": 4,
  "nbformat_minor": 0,
  "metadata": {
    "colab": {
      "name": "Time_Series_Stationary_Data.ipynb",
      "provenance": [],
      "authorship_tag": "ABX9TyOM4gN6CzqIdfG8H6FXeZ1d",
      "include_colab_link": true
    },
    "kernelspec": {
      "name": "python3",
      "display_name": "Python 3"
    },
    "language_info": {
      "name": "python"
    }
  },
  "cells": [
    {
      "cell_type": "markdown",
      "metadata": {
        "id": "view-in-github",
        "colab_type": "text"
      },
      "source": [
        "<a href=\"https://colab.research.google.com/github/alamin19/Time_Series_Stationary_Data/blob/main/Time_Series_Stationary_Data.ipynb\" target=\"_parent\"><img src=\"https://colab.research.google.com/assets/colab-badge.svg\" alt=\"Open In Colab\"/></a>"
      ]
    },
    {
      "cell_type": "code",
      "metadata": {
        "id": "MGXB9mAZM9r4"
      },
      "source": [
        "from pandas import read_csv\n",
        "from matplotlib import pyplot\n",
        "import pandas as pd\n",
        "\n"
      ],
      "execution_count": null,
      "outputs": []
    },
    {
      "cell_type": "code",
      "metadata": {
        "id": "TUYvdAkMNV9x"
      },
      "source": [
        "df = pd.read_csv('cqmpredict.csv')\n",
        "#df.head()"
      ],
      "execution_count": null,
      "outputs": []
    },
    {
      "cell_type": "code",
      "metadata": {
        "id": "_VJKpZoMN3z-"
      },
      "source": [
        "#df.replace('%', '', regex = True, inplace = True)\n",
        "df.replace('%', '', regex=True,inplace=True)\n",
        "#df.head()\n",
        "#df.info()"
      ],
      "execution_count": null,
      "outputs": []
    }
  ]
}